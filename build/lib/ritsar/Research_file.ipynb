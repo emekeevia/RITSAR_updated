{
 "cells": [
  {
   "cell_type": "code",
   "execution_count": null,
   "metadata": {},
   "outputs": [
    {
     "ename": "",
     "evalue": "",
     "output_type": "error",
     "traceback": [
      "\u001b[1;31mНе удалось запустить ядро. \n",
      "\u001b[1;31mAttributeError: partially initialized module 'subprocess' has no attribute 'CalledProcessError' (most likely due to a circular import). \n",
      "Подробнее см. в <a href='command:jupyter.viewOutput'>журнале Jupyter</a>."
     ]
    }
   ],
   "source": [
    "from scipy.fftpack import fftshift, fft2, ifft2, fft, ifft\n",
    "from scipy.signal import firwin, filtfilt\n",
    "import numpy as np\n",
    "ax=-1\n",
    "a = np.array([i for i in range(21)])\n",
    "f = a.reshape(7, 3)\n",
    "F = fftshift(fftshift(f))\n",
    "print(F)"
   ]
  },
  {
   "cell_type": "code",
   "execution_count": null,
   "metadata": {},
   "outputs": [
    {
     "ename": "",
     "evalue": "",
     "output_type": "error",
     "traceback": [
      "\u001b[1;31mНе удалось запустить ядро. \n",
      "\u001b[1;31mAttributeError: partially initialized module 'subprocess' has no attribute 'CalledProcessError' (most likely due to a circular import). \n",
      "Подробнее см. в <a href='command:jupyter.viewOutput'>журнале Jupyter</a>."
     ]
    }
   ],
   "source": [
    "from scipy.fftpack import fftshift, fft2, ifft2, fft, ifft\n",
    "from scipy.signal import firwin, filtfilt\n",
    "import numpy as np\n",
    "ax=-1\n",
    "a = np.array([i for i in range(21)])\n",
    "f = a.reshape(7, 3)\n",
    "F = fftshift(f)\n",
    "print(F)"
   ]
  },
  {
   "cell_type": "code",
   "execution_count": null,
   "metadata": {},
   "outputs": [],
   "source": []
  }
 ],
 "metadata": {
  "kernelspec": {
   "display_name": "Python 3.8.10 64-bit",
   "language": "python",
   "name": "python3"
  },
  "language_info": {
   "codemirror_mode": {
    "name": "ipython",
    "version": 3
   },
   "file_extension": ".py",
   "mimetype": "text/x-python",
   "name": "python",
   "nbconvert_exporter": "python",
   "pygments_lexer": "ipython3",
   "version": "3.8.10"
  },
  "orig_nbformat": 4,
  "vscode": {
   "interpreter": {
    "hash": "916dbcbb3f70747c44a77c7bcd40155683ae19c65e1c03b4aa3499c5328201f1"
   }
  }
 },
 "nbformat": 4,
 "nbformat_minor": 2
}
